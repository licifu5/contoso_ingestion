{
 "cells": [
  {
   "cell_type": "markdown",
   "metadata": {
    "application/vnd.databricks.v1+cell": {
     "cellMetadata": {},
     "inputWidgets": {},
     "nuid": "eb1f6c7b-b50b-4920-8728-00bd09711082",
     "showTitle": false,
     "tableResultSettingsMap": {},
     "title": ""
    }
   },
   "source": [
    "# Notebook for real ingestion of parquet data from Azure Data Lake (RAW) to Delta Lake (Data Hub)"
   ]
  },
  {
   "cell_type": "markdown",
   "metadata": {
    "application/vnd.databricks.v1+cell": {
     "cellMetadata": {},
     "inputWidgets": {},
     "nuid": "3b5b62f7-9b5d-437c-af42-bcd737acd13a",
     "showTitle": false,
     "tableResultSettingsMap": {},
     "title": ""
    }
   },
   "source": [
    "## Getting the Azure Data Lake RAW file and the ADF pipeline parameters"
   ]
  },
  {
   "cell_type": "code",
   "execution_count": 0,
   "metadata": {
    "application/vnd.databricks.v1+cell": {
     "cellMetadata": {
      "byteLimit": 2048000,
      "rowLimit": 10000
     },
     "inputWidgets": {},
     "nuid": "59af7754-3d10-4467-b6a5-535bc639d539",
     "showTitle": false,
     "tableResultSettingsMap": {},
     "title": ""
    }
   },
   "outputs": [
    {
     "output_type": "stream",
     "name": "stdout",
     "output_type": "stream",
     "text": [
      "Wrote 333 bytes.\n"
     ]
    },
    {
     "output_type": "execute_result",
     "data": {
      "text/plain": [
       "True"
      ]
     },
     "execution_count": 18,
     "metadata": {},
     "output_type": "execute_result"
    }
   ],
   "source": [
    "from pyspark.sql import SparkSession\n",
    "from pyspark.sql.types import StructType, StructField, StringType, DoubleType, TimestampType\n",
    "from pyspark.sql.functions import col, sha2\n",
    "import os\n",
    "from io import StringIO\n",
    "from pyspark.sql.functions import lit\n",
    "\n",
    "#Getting parameters from the ADF pipeline\n",
    "dbutils.widgets.text(\"container\", \"\")\n",
    "dbutils.widgets.text(\"folder\", \"\")\n",
    "dbutils.widgets.text(\"file\", \"\")\n",
    "dbutils.widgets.text(\"odate\", \"\")\n",
    "dbutils.widgets.text(\"timestamp\", \"\")\n",
    "container = dbutils.widgets.get(\"container\")\n",
    "folder = dbutils.widgets.get(\"folder\")\n",
    "file = dbutils.widgets.get(\"file\")\n",
    "odate = dbutils.widgets.get(\"odate\")\n",
    "timestamp = dbutils.widgets.get(\"timestamp\")\n",
    "\n",
    "#ADLS route of the file\n",
    "input_path = f\"abfss://{container}@datalakecontoso.dfs.core.windows.net/{folder}/{file}\"\n"
   ]
  },
  {
   "cell_type": "markdown",
   "metadata": {
    "application/vnd.databricks.v1+cell": {
     "cellMetadata": {},
     "inputWidgets": {},
     "nuid": "8e96b766-5fb8-477d-9e2d-22ba5c322a78",
     "showTitle": false,
     "tableResultSettingsMap": {},
     "title": ""
    }
   },
   "source": [
    "## Creation of Spark Dataframe"
   ]
  },
  {
   "cell_type": "code",
   "execution_count": 0,
   "metadata": {
    "application/vnd.databricks.v1+cell": {
     "cellMetadata": {
      "byteLimit": 2048000,
      "rowLimit": 10000
     },
     "inputWidgets": {},
     "nuid": "d5b58ed6-e6b3-4d4b-8598-07f828de3bdc",
     "showTitle": false,
     "tableResultSettingsMap": {},
     "title": ""
    }
   },
   "outputs": [
    {
     "output_type": "stream",
     "name": "stdout",
     "output_type": "stream",
     "text": [
      "+--------------------+----------+----------------+------+--------+--------+--------------+\n|      account_number| full_name|transaction_type|amount|currency|   odate|     timestamp|\n+--------------------+----------+----------------+------+--------+--------+--------------+\n|ES912100041845020...|  John Doe|         deposit|1200.5|     EUR|20250622|20250623155157|\n|ES912100041845020...|  John Doe|      withdrawal| 300.0|     USD|20250622|20250623155157|\n|ES912100041845020...|  John Doe|         deposit|1200.5|     EUR|20250622|20250623155157|\n|ES762077002400310...|Jane Smith|        transfer|500.75|     EUR|20250622|20250623155157|\n|ES762077002400310...|Jane Smith|         deposit| 800.0|     EUR|20250622|20250623155157|\n+--------------------+----------+----------------+------+--------+--------+--------------+\n\n"
     ]
    }
   ],
   "source": [
    "#The file is read as a Spark dataframe\n",
    "df = spark.read.parquet(input_path, header=True, inferSchema=True)\n",
    "#The odate and timestamp columns are added for later partitioning.\n",
    "df = df.withColumn(\"odate\", lit(odate)) \\\n",
    "       .withColumn(\"timestamp\", lit(timestamp))\n",
    "df.show()"
   ]
  },
  {
   "cell_type": "markdown",
   "metadata": {
    "application/vnd.databricks.v1+cell": {
     "cellMetadata": {},
     "inputWidgets": {},
     "nuid": "6a002274-e47f-4a24-8fb8-8068ac72e1f3",
     "showTitle": false,
     "tableResultSettingsMap": {},
     "title": ""
    }
   },
   "source": [
    "%md\n",
    "## Transformations (duplicate elimination and anonymization of a column are applied as an example)"
   ]
  },
  {
   "cell_type": "code",
   "execution_count": 0,
   "metadata": {
    "application/vnd.databricks.v1+cell": {
     "cellMetadata": {
      "byteLimit": 2048000,
      "rowLimit": 10000
     },
     "inputWidgets": {},
     "nuid": "d5c9ee5c-8b7d-4e27-a722-320b8d1e0aa2",
     "showTitle": false,
     "tableResultSettingsMap": {},
     "title": ""
    }
   },
   "outputs": [
    {
     "output_type": "stream",
     "name": "stdout",
     "output_type": "stream",
     "text": [
      "+--------------------+----------+----------------+------+--------+--------+--------------+\n|      account_number| full_name|transaction_type|amount|currency|   odate|     timestamp|\n+--------------------+----------+----------------+------+--------+--------+--------------+\n|ES912100041845020...|  John Doe|      withdrawal| 300.0|     USD|20250622|20250623155157|\n|ES762077002400310...|Jane Smith|        transfer|500.75|     EUR|20250622|20250623155157|\n|ES762077002400310...|Jane Smith|         deposit| 800.0|     EUR|20250622|20250623155157|\n|ES912100041845020...|  John Doe|         deposit|1200.5|     EUR|20250622|20250623155157|\n+--------------------+----------+----------------+------+--------+--------+--------------+\n\n"
     ]
    }
   ],
   "source": [
    "#Duplicate elimination\n",
    "df_no_dup = df.dropDuplicates()\n",
    "df_no_dup.show()"
   ]
  },
  {
   "cell_type": "code",
   "execution_count": 0,
   "metadata": {
    "application/vnd.databricks.v1+cell": {
     "cellMetadata": {
      "byteLimit": 2048000,
      "rowLimit": 10000
     },
     "inputWidgets": {},
     "nuid": "fda1223b-01c8-4961-ab65-2656363995ba",
     "showTitle": false,
     "tableResultSettingsMap": {},
     "title": ""
    }
   },
   "outputs": [
    {
     "output_type": "stream",
     "name": "stdout",
     "output_type": "stream",
     "text": [
      "+--------------------+----------+----------------+------+--------+--------+--------------+\n|      account_number| full_name|transaction_type|amount|currency|   odate|     timestamp|\n+--------------------+----------+----------------+------+--------+--------+--------------+\n|b179add486f3c7e1a...|  John Doe|      withdrawal| 300.0|     USD|20250622|20250623155157|\n|bbb011054ca051c10...|Jane Smith|        transfer|500.75|     EUR|20250622|20250623155157|\n|bbb011054ca051c10...|Jane Smith|         deposit| 800.0|     EUR|20250622|20250623155157|\n|b179add486f3c7e1a...|  John Doe|         deposit|1200.5|     EUR|20250622|20250623155157|\n+--------------------+----------+----------------+------+--------+--------+--------------+\n\n"
     ]
    }
   ],
   "source": [
    "#Anonymization of the account_number column with SHA256\n",
    "df_anon = df_no_dup.withColumn(\"account_number\", sha2(col(\"account_number\"), 256))\n",
    "df_anon.show()"
   ]
  },
  {
   "cell_type": "markdown",
   "metadata": {
    "application/vnd.databricks.v1+cell": {
     "cellMetadata": {},
     "inputWidgets": {},
     "nuid": "2c916596-aaea-432f-b7fb-5403b42bce21",
     "showTitle": false,
     "tableResultSettingsMap": {},
     "title": ""
    }
   },
   "source": [
    "## Saving of the transformed Dataframe in Delta Lake"
   ]
  },
  {
   "cell_type": "code",
   "execution_count": 0,
   "metadata": {
    "application/vnd.databricks.v1+cell": {
     "cellMetadata": {
      "byteLimit": 2048000,
      "rowLimit": 10000
     },
     "inputWidgets": {},
     "nuid": "d18c7b6d-e925-4a54-a6b5-63c7652d6463",
     "showTitle": false,
     "tableResultSettingsMap": {},
     "title": ""
    }
   },
   "outputs": [
    {
     "output_type": "stream",
     "name": "stdout",
     "output_type": "stream",
     "text": [
      "+----------------------------------------------------------------+----------+----------------+------+--------+--------+--------------+\n|account_number                                                  |full_name |transaction_type|amount|currency|odate   |timestamp     |\n+----------------------------------------------------------------+----------+----------------+------+--------+--------+--------------+\n|b179add486f3c7e1a11795d0948ce1744fbd1981d9c97ab48bb943099ab83982|John Doe  |withdrawal      |300.0 |USD     |20250622|20250623155157|\n|bbb011054ca051c10be5d18345af9e3e0741769a5d1c2915c31b070fe105dece|Jane Smith|transfer        |500.75|EUR     |20250622|20250623155157|\n|bbb011054ca051c10be5d18345af9e3e0741769a5d1c2915c31b070fe105dece|Jane Smith|deposit         |800.0 |EUR     |20250622|20250623155157|\n|b179add486f3c7e1a11795d0948ce1744fbd1981d9c97ab48bb943099ab83982|John Doe  |deposit         |1200.5|EUR     |20250622|20250623155157|\n+----------------------------------------------------------------+----------+----------------+------+--------+--------+--------------+\n\n"
     ]
    }
   ],
   "source": [
    "#Saving the df into DL\n",
    "delta_path = \"dbfs:/datahub\"+folder+\"/\"+file\n",
    "df_anon.write.format(\"delta\").partitionBy(\"odate\", \"timestamp\").mode(\"overwrite\").save(delta_path)\n",
    "df_anon.show(truncate=False)"
   ]
  },
  {
   "cell_type": "markdown",
   "metadata": {
    "application/vnd.databricks.v1+cell": {
     "cellMetadata": {},
     "inputWidgets": {},
     "nuid": "c05fa76b-3902-4418-8450-938ff28d036b",
     "showTitle": false,
     "tableResultSettingsMap": {},
     "title": ""
    }
   },
   "source": [
    "## Test operations on the Delta Table"
   ]
  },
  {
   "cell_type": "code",
   "execution_count": 0,
   "metadata": {
    "application/vnd.databricks.v1+cell": {
     "cellMetadata": {
      "byteLimit": 2048000,
      "implicitDf": true,
      "rowLimit": 10000
     },
     "inputWidgets": {},
     "nuid": "a27b1da6-f7fa-428e-bc7f-bf628f3c57fc",
     "showTitle": false,
     "tableResultSettingsMap": {},
     "title": ""
    }
   },
   "outputs": [],
   "source": [
    "%sql\n",
    "--Creating the schema and table into Hive Metastore (Unity Catalog preferred)\n",
    "USE CATALOG hive_metastore;\n",
    "CREATE DATABASE IF NOT EXISTS spain;\n",
    "USE spain;\n",
    "\n",
    "CREATE TABLE IF NOT EXISTS accounts\n",
    "USING DELTA\n",
    "LOCATION 'dbfs:/datahub/file/spain/20250622/20250623155157/accounts_demo.parquet';"
   ]
  },
  {
   "cell_type": "code",
   "execution_count": 0,
   "metadata": {
    "application/vnd.databricks.v1+cell": {
     "cellMetadata": {
      "byteLimit": 2048000,
      "implicitDf": true,
      "rowLimit": 10000
     },
     "inputWidgets": {},
     "nuid": "2f29ba20-7b1c-4e09-8919-e3d70e3d88f1",
     "showTitle": false,
     "tableResultSettingsMap": {},
     "title": ""
    }
   },
   "outputs": [
    {
     "output_type": "display_data",
     "data": {
      "text/html": [
       "<style scoped>\n",
       "  .table-result-container {\n",
       "    max-height: 300px;\n",
       "    overflow: auto;\n",
       "  }\n",
       "  table, th, td {\n",
       "    border: 1px solid black;\n",
       "    border-collapse: collapse;\n",
       "  }\n",
       "  th, td {\n",
       "    padding: 5px;\n",
       "  }\n",
       "  th {\n",
       "    text-align: left;\n",
       "  }\n",
       "</style><div class='table-result-container'><table class='table-result'><thead style='background-color: white'><tr><th>account_number</th><th>full_name</th><th>transaction_type</th><th>amount</th><th>currency</th><th>odate</th><th>timestamp</th></tr></thead><tbody><tr><td>bbb011054ca051c10be5d18345af9e3e0741769a5d1c2915c31b070fe105dece</td><td>Jane Smith</td><td>transfer</td><td>500.75</td><td>EUR</td><td>20250622</td><td>20250623155157</td></tr><tr><td>b179add486f3c7e1a11795d0948ce1744fbd1981d9c97ab48bb943099ab83982</td><td>John Doe</td><td>withdrawal</td><td>300.0</td><td>null</td><td>20250622</td><td>20250623155157</td></tr><tr><td>bbb011054ca051c10be5d18345af9e3e0741769a5d1c2915c31b070fe105dece</td><td>Jane Smith</td><td>deposit</td><td>800.0</td><td>EUR</td><td>20250622</td><td>20250623155157</td></tr><tr><td>b179add486f3c7e1a11795d0948ce1744fbd1981d9c97ab48bb943099ab83982</td><td>John Doe</td><td>deposit</td><td>1200.5</td><td>EUR</td><td>20250622</td><td>20250623155157</td></tr></tbody></table></div>"
      ]
     },
     "metadata": {
      "application/vnd.databricks.v1+output": {
       "addedWidgets": {},
       "aggData": [],
       "aggError": "",
       "aggOverflow": false,
       "aggSchema": [],
       "aggSeriesLimitReached": false,
       "aggType": "",
       "arguments": {},
       "columnCustomDisplayInfos": {},
       "data": [
        [
         "bbb011054ca051c10be5d18345af9e3e0741769a5d1c2915c31b070fe105dece",
         "Jane Smith",
         "transfer",
         500.75,
         "EUR",
         "20250622",
         "20250623155157"
        ],
        [
         "b179add486f3c7e1a11795d0948ce1744fbd1981d9c97ab48bb943099ab83982",
         "John Doe",
         "withdrawal",
         300.0,
         null,
         "20250622",
         "20250623155157"
        ],
        [
         "bbb011054ca051c10be5d18345af9e3e0741769a5d1c2915c31b070fe105dece",
         "Jane Smith",
         "deposit",
         800.0,
         "EUR",
         "20250622",
         "20250623155157"
        ],
        [
         "b179add486f3c7e1a11795d0948ce1744fbd1981d9c97ab48bb943099ab83982",
         "John Doe",
         "deposit",
         1200.5,
         "EUR",
         "20250622",
         "20250623155157"
        ]
       ],
       "datasetInfos": [
        {
         "name": "_sqldf",
         "schema": {
          "fields": [
           {
            "metadata": {},
            "name": "account_number",
            "nullable": true,
            "type": "string"
           },
           {
            "metadata": {},
            "name": "full_name",
            "nullable": true,
            "type": "string"
           },
           {
            "metadata": {},
            "name": "transaction_type",
            "nullable": true,
            "type": "string"
           },
           {
            "metadata": {},
            "name": "amount",
            "nullable": true,
            "type": "double"
           },
           {
            "metadata": {},
            "name": "currency",
            "nullable": true,
            "type": "string"
           },
           {
            "metadata": {},
            "name": "odate",
            "nullable": true,
            "type": "string"
           },
           {
            "metadata": {},
            "name": "timestamp",
            "nullable": true,
            "type": "string"
           }
          ],
          "type": "struct"
         },
         "tableIdentifier": null,
         "typeStr": "pyspark.sql.connect.dataframe.DataFrame"
        }
       ],
       "dbfsResultPath": null,
       "isJsonSchema": true,
       "metadata": {
        "createTempViewForImplicitDf": true,
        "dataframeName": "_sqldf",
        "executionCount": 30
       },
       "overflow": false,
       "plotOptions": {
        "customPlotOptions": {},
        "displayType": "table",
        "pivotAggregation": null,
        "pivotColumns": null,
        "xColumns": null,
        "yColumns": null
       },
       "removedWidgets": [],
       "schema": [
        {
         "metadata": "{}",
         "name": "account_number",
         "type": "\"string\""
        },
        {
         "metadata": "{}",
         "name": "full_name",
         "type": "\"string\""
        },
        {
         "metadata": "{}",
         "name": "transaction_type",
         "type": "\"string\""
        },
        {
         "metadata": "{}",
         "name": "amount",
         "type": "\"double\""
        },
        {
         "metadata": "{}",
         "name": "currency",
         "type": "\"string\""
        },
        {
         "metadata": "{}",
         "name": "odate",
         "type": "\"string\""
        },
        {
         "metadata": "{}",
         "name": "timestamp",
         "type": "\"string\""
        }
       ],
       "type": "table"
      }
     },
     "output_type": "display_data"
    }
   ],
   "source": [
    "%sql\n",
    "--Testing one query to see the data\n",
    "SELECT * FROM hive_metastore.spain.accounts;"
   ]
  },
  {
   "cell_type": "code",
   "execution_count": 0,
   "metadata": {
    "application/vnd.databricks.v1+cell": {
     "cellMetadata": {
      "byteLimit": 2048000,
      "implicitDf": true,
      "rowLimit": 10000
     },
     "inputWidgets": {},
     "nuid": "d01f765e-88ec-4c05-bf0b-f46093fa89cd",
     "showTitle": false,
     "tableResultSettingsMap": {},
     "title": ""
    }
   },
   "outputs": [
    {
     "output_type": "display_data",
     "data": {
      "text/html": [
       "<style scoped>\n",
       "  .table-result-container {\n",
       "    max-height: 300px;\n",
       "    overflow: auto;\n",
       "  }\n",
       "  table, th, td {\n",
       "    border: 1px solid black;\n",
       "    border-collapse: collapse;\n",
       "  }\n",
       "  th, td {\n",
       "    padding: 5px;\n",
       "  }\n",
       "  th {\n",
       "    text-align: left;\n",
       "  }\n",
       "</style><div class='table-result-container'><table class='table-result'><thead style='background-color: white'><tr><th>odate</th><th>timestamp</th></tr></thead><tbody><tr><td>20250622</td><td>20250623155157</td></tr></tbody></table></div>"
      ]
     },
     "metadata": {
      "application/vnd.databricks.v1+output": {
       "addedWidgets": {},
       "aggData": [],
       "aggError": "",
       "aggOverflow": false,
       "aggSchema": [],
       "aggSeriesLimitReached": false,
       "aggType": "",
       "arguments": {},
       "columnCustomDisplayInfos": {},
       "data": [
        [
         "20250622",
         "20250623155157"
        ]
       ],
       "datasetInfos": [
        {
         "name": "_sqldf",
         "schema": {
          "fields": [
           {
            "metadata": {},
            "name": "odate",
            "nullable": true,
            "type": "string"
           },
           {
            "metadata": {},
            "name": "timestamp",
            "nullable": true,
            "type": "string"
           }
          ],
          "type": "struct"
         },
         "tableIdentifier": null,
         "typeStr": "pyspark.sql.connect.dataframe.DataFrame"
        }
       ],
       "dbfsResultPath": null,
       "isJsonSchema": true,
       "metadata": {
        "createTempViewForImplicitDf": true,
        "dataframeName": "_sqldf",
        "executionCount": 31
       },
       "overflow": false,
       "plotOptions": {
        "customPlotOptions": {},
        "displayType": "table",
        "pivotAggregation": null,
        "pivotColumns": null,
        "xColumns": null,
        "yColumns": null
       },
       "removedWidgets": [],
       "schema": [
        {
         "metadata": "{}",
         "name": "odate",
         "type": "\"string\""
        },
        {
         "metadata": "{}",
         "name": "timestamp",
         "type": "\"string\""
        }
       ],
       "type": "table"
      }
     },
     "output_type": "display_data"
    }
   ],
   "source": [
    "%sql\n",
    "--Testing data partitions\n",
    "show partitions hive_metastore.spain.accounts;"
   ]
  }
 ],
 "metadata": {
  "application/vnd.databricks.v1+notebook": {
   "computePreferences": null,
   "dashboards": [],
   "environmentMetadata": {
    "base_environment": "",
    "environment_version": "2"
   },
   "inputWidgetPreferences": null,
   "language": "python",
   "notebookMetadata": {
    "mostRecentlyExecutedCommandWithImplicitDF": {
     "commandId": 4599210560261152,
     "dataframes": [
      "_sqldf"
     ]
    },
    "pythonIndentUnit": 4
   },
   "notebookName": "Contoso_pipeline_notebook",
   "widgets": {}
  },
  "language_info": {
   "name": "python"
  }
 },
 "nbformat": 4,
 "nbformat_minor": 0
}
